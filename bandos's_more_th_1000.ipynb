{
 "cells": [
  {
   "cell_type": "code",
   "execution_count": 123,
   "metadata": {},
   "outputs": [],
   "source": [
    "import pickle\n",
    "\n",
    "import tarfile\n",
    "from tqdm import tqdm_notebook as tqdm\n",
    "\n",
    "from multiprocessing import Pool\n",
    "\n",
    "\n",
    "import nltk\n",
    "from nltk.tokenize import word_tokenize\n",
    "from nltk.corpus import stopwords\n",
    "stop = stopwords.words('russian')\n",
    "\n",
    "from string import punctuation\n",
    "# punkt= [p for p in punctuation] + [\"`\", \"``\" ,\"''\", \"'\"]\n",
    "punkt= [p for p in punctuation] + [\"`\", \"``\" ,\"''\", \"'\", '\"','\"\"','\"\"\"','«','»']\n",
    "\n",
    "\n",
    "import gensim\n",
    "import numpy as np # linear algebra\n",
    "import pandas as pd # data processing, CSV file I/O (e.g. pd.read_csv)\n",
    "import fasttext\n",
    "import pymorphy3\n",
    "\n",
    "from sklearn.pipeline import Pipeline, FeatureUnion\n",
    "from sklearn.base import TransformerMixin, BaseEstimator\n",
    "from sklearn.preprocessing import FunctionTransformer\n",
    "from sklearn.model_selection import train_test_split"
   ]
  },
  {
   "cell_type": "markdown",
   "metadata": {},
   "source": [
    "### Базовый датасет"
   ]
  },
  {
   "cell_type": "code",
   "execution_count": 124,
   "metadata": {},
   "outputs": [
    {
     "name": "stderr",
     "output_type": "stream",
     "text": [
      "C:\\Users\\bandos\\AppData\\Local\\Temp\\ipykernel_16552\\1808242926.py:1: DtypeWarning: Columns (3) have mixed types. Specify dtype option on import or set low_memory=False.\n",
      "  data = pd.read_csv('lenta-ru-news.csv')\n"
     ]
    }
   ],
   "source": [
    "data = pd.read_csv('lenta-ru-news.csv')\n",
    "\n",
    "data.date = pd.to_datetime(data.date)"
   ]
  },
  {
   "cell_type": "code",
   "execution_count": 125,
   "metadata": {},
   "outputs": [],
   "source": [
    "selected_topics = ['Россия', 'Экономика', 'Силовые структуры', 'Бывший СССР', 'Спорт', 'Забота о себе', 'Строительство', 'Путешествия', 'Наука и техника']\n",
    "\n",
    "data = data[data.topic.isin(selected_topics)]"
   ]
  },
  {
   "cell_type": "code",
   "execution_count": 126,
   "metadata": {},
   "outputs": [],
   "source": [
    "data.dropna(subset=['title','topic'], inplace=True)"
   ]
  },
  {
   "cell_type": "code",
   "execution_count": 61,
   "metadata": {},
   "outputs": [],
   "source": [
    "# Задаем максимальное количество новостей для каждой темы\n",
    "max_news_per_topic = 10000\n",
    "\n",
    "# Группируем данные по теме и выбираем не более 7000 новостей из каждой темы\n",
    "data = data.groupby('topic').tail(max_news_per_topic)"
   ]
  },
  {
   "cell_type": "code",
   "execution_count": 127,
   "metadata": {},
   "outputs": [
    {
     "data": {
      "text/html": [
       "<div>\n",
       "<style scoped>\n",
       "    .dataframe tbody tr th:only-of-type {\n",
       "        vertical-align: middle;\n",
       "    }\n",
       "\n",
       "    .dataframe tbody tr th {\n",
       "        vertical-align: top;\n",
       "    }\n",
       "\n",
       "    .dataframe thead th {\n",
       "        text-align: right;\n",
       "    }\n",
       "</style>\n",
       "<table border=\"1\" class=\"dataframe\">\n",
       "  <thead>\n",
       "    <tr style=\"text-align: right;\">\n",
       "      <th></th>\n",
       "      <th>title</th>\n",
       "      <th>topic</th>\n",
       "    </tr>\n",
       "  </thead>\n",
       "  <tbody>\n",
       "    <tr>\n",
       "      <th>5</th>\n",
       "      <td>Космонавты сомневаются в надежности \"Мира\"</td>\n",
       "      <td>Россия</td>\n",
       "    </tr>\n",
       "    <tr>\n",
       "      <th>6</th>\n",
       "      <td>Взрыв в центре Москвы: пострадало 30 человек</td>\n",
       "      <td>Россия</td>\n",
       "    </tr>\n",
       "    <tr>\n",
       "      <th>7</th>\n",
       "      <td>Япония кредитует Россию на полтора миллиарда д...</td>\n",
       "      <td>Россия</td>\n",
       "    </tr>\n",
       "    <tr>\n",
       "      <th>9</th>\n",
       "      <td>Отмытые через Bank of NY деньги не имели отнош...</td>\n",
       "      <td>Россия</td>\n",
       "    </tr>\n",
       "    <tr>\n",
       "      <th>10</th>\n",
       "      <td>C 1 сентября вводится новая форма таможенной д...</td>\n",
       "      <td>Россия</td>\n",
       "    </tr>\n",
       "  </tbody>\n",
       "</table>\n",
       "</div>"
      ],
      "text/plain": [
       "                                                title   topic\n",
       "5          Космонавты сомневаются в надежности \"Мира\"  Россия\n",
       "6        Взрыв в центре Москвы: пострадало 30 человек  Россия\n",
       "7   Япония кредитует Россию на полтора миллиарда д...  Россия\n",
       "9   Отмытые через Bank of NY деньги не имели отнош...  Россия\n",
       "10  C 1 сентября вводится новая форма таможенной д...  Россия"
      ]
     },
     "execution_count": 127,
     "metadata": {},
     "output_type": "execute_result"
    }
   ],
   "source": [
    "data = data[['title','topic']]\n",
    "data.head()"
   ]
  },
  {
   "cell_type": "code",
   "execution_count": 128,
   "metadata": {},
   "outputs": [
    {
     "name": "stdout",
     "output_type": "stream",
     "text": [
      "<class 'pandas.core.frame.DataFrame'>\n",
      "Index: 436928 entries, 5 to 739175\n",
      "Data columns (total 2 columns):\n",
      " #   Column  Non-Null Count   Dtype \n",
      "---  ------  --------------   ----- \n",
      " 0   title   436928 non-null  object\n",
      " 1   topic   436928 non-null  object\n",
      "dtypes: object(2)\n",
      "memory usage: 10.0+ MB\n"
     ]
    }
   ],
   "source": [
    "data.info()"
   ]
  },
  {
   "cell_type": "markdown",
   "metadata": {},
   "source": [
    "### Добавляем пропущенные темы:"
   ]
  },
  {
   "cell_type": "code",
   "execution_count": 129,
   "metadata": {},
   "outputs": [],
   "source": [
    "import pandas as pd\n",
    "\n",
    "# Загрузите данные из titles_health_rbc_unique.csv\n",
    "health_data = pd.read_csv('titles_health_rbc_unique.csv')\n",
    "\n",
    "# Предположим, что у вас уже есть DataFrame shorted_data и health_data\n",
    "\n",
    "# Добавьте новый столбец 'topic' в health_data с заданным значением 'Забота о себе'\n",
    "health_data['topic'] = 'Забота о себе'\n",
    "\n",
    "# Добавьте данные из health_data в shorted_data\n",
    "data = pd.concat([data, health_data], ignore_index=True)\n"
   ]
  },
  {
   "cell_type": "code",
   "execution_count": 130,
   "metadata": {},
   "outputs": [],
   "source": [
    "import pandas as pd\n",
    "\n",
    "# Загрузите данные из titles_health_rbc_unique.csv\n",
    "stroitelstvo_data = pd.read_csv('titles_Stroitelstvo_ria_unique_more_than_1000.csv')\n",
    "\n",
    "# Предположим, что у вас уже есть DataFrame shorted_data и health_data\n",
    "\n",
    "# Добавьте новый столбец 'topic' в stroitelstvo_data с заданным значением 'Строительство'\n",
    "stroitelstvo_data['topic'] = 'Строительство'\n",
    "\n",
    "# Добавьте данные из health_data в shorted_data\n",
    "data = pd.concat([data, stroitelstvo_data], ignore_index=True)\n",
    "\n"
   ]
  },
  {
   "cell_type": "code",
   "execution_count": 131,
   "metadata": {},
   "outputs": [
    {
     "data": {
      "text/html": [
       "<div>\n",
       "<style scoped>\n",
       "    .dataframe tbody tr th:only-of-type {\n",
       "        vertical-align: middle;\n",
       "    }\n",
       "\n",
       "    .dataframe tbody tr th {\n",
       "        vertical-align: top;\n",
       "    }\n",
       "\n",
       "    .dataframe thead th {\n",
       "        text-align: right;\n",
       "    }\n",
       "</style>\n",
       "<table border=\"1\" class=\"dataframe\">\n",
       "  <thead>\n",
       "    <tr style=\"text-align: right;\">\n",
       "      <th></th>\n",
       "      <th>title</th>\n",
       "      <th>topic</th>\n",
       "    </tr>\n",
       "  </thead>\n",
       "  <tbody>\n",
       "    <tr>\n",
       "      <th>0</th>\n",
       "      <td>Космонавты сомневаются в надежности \"Мира\"</td>\n",
       "      <td>Россия</td>\n",
       "    </tr>\n",
       "    <tr>\n",
       "      <th>1</th>\n",
       "      <td>Взрыв в центре Москвы: пострадало 30 человек</td>\n",
       "      <td>Россия</td>\n",
       "    </tr>\n",
       "    <tr>\n",
       "      <th>2</th>\n",
       "      <td>Япония кредитует Россию на полтора миллиарда д...</td>\n",
       "      <td>Россия</td>\n",
       "    </tr>\n",
       "    <tr>\n",
       "      <th>3</th>\n",
       "      <td>Отмытые через Bank of NY деньги не имели отнош...</td>\n",
       "      <td>Россия</td>\n",
       "    </tr>\n",
       "    <tr>\n",
       "      <th>4</th>\n",
       "      <td>C 1 сентября вводится новая форма таможенной д...</td>\n",
       "      <td>Россия</td>\n",
       "    </tr>\n",
       "  </tbody>\n",
       "</table>\n",
       "</div>"
      ],
      "text/plain": [
       "                                               title   topic\n",
       "0         Космонавты сомневаются в надежности \"Мира\"  Россия\n",
       "1       Взрыв в центре Москвы: пострадало 30 человек  Россия\n",
       "2  Япония кредитует Россию на полтора миллиарда д...  Россия\n",
       "3  Отмытые через Bank of NY деньги не имели отнош...  Россия\n",
       "4  C 1 сентября вводится новая форма таможенной д...  Россия"
      ]
     },
     "execution_count": 131,
     "metadata": {},
     "output_type": "execute_result"
    }
   ],
   "source": [
    "data.head()"
   ]
  },
  {
   "cell_type": "code",
   "execution_count": 132,
   "metadata": {},
   "outputs": [
    {
     "name": "stdout",
     "output_type": "stream",
     "text": [
      "<class 'pandas.core.frame.DataFrame'>\n",
      "RangeIndex: 440165 entries, 0 to 440164\n",
      "Data columns (total 2 columns):\n",
      " #   Column  Non-Null Count   Dtype \n",
      "---  ------  --------------   ----- \n",
      " 0   title   440165 non-null  object\n",
      " 1   topic   440165 non-null  object\n",
      "dtypes: object(2)\n",
      "memory usage: 6.7+ MB\n"
     ]
    }
   ],
   "source": [
    "data.info()"
   ]
  },
  {
   "cell_type": "code",
   "execution_count": 133,
   "metadata": {},
   "outputs": [
    {
     "name": "stdout",
     "output_type": "stream",
     "text": [
      "               Topic   Count  Percentage\n",
      "0             Россия  160445   36.451104\n",
      "1          Экономика   79528   18.067770\n",
      "2              Спорт   64413   14.633830\n",
      "3        Бывший СССР   53402   12.132269\n",
      "4    Наука и техника   53136   12.071837\n",
      "5  Силовые структуры   19596    4.451967\n",
      "6        Путешествия    6408    1.455818\n",
      "7      Строительство    2344    0.532528\n",
      "8      Забота о себе     893    0.202878\n"
     ]
    }
   ],
   "source": [
    "topic_counts = data['topic'].value_counts()\n",
    "topic_percentage = data['topic'].value_counts(normalize=True) * 100\n",
    "\n",
    "result_df = pd.DataFrame({\n",
    "    'Topic': topic_counts.index,\n",
    "    'Count': topic_counts.values,\n",
    "    'Percentage': topic_percentage.values\n",
    "})\n",
    "\n",
    "print(result_df)"
   ]
  },
  {
   "cell_type": "code",
   "execution_count": 134,
   "metadata": {},
   "outputs": [
    {
     "name": "stdout",
     "output_type": "stream",
     "text": [
      "Combined data has been successfully written to news_data_440k.csv.\n"
     ]
    }
   ],
   "source": [
    "# # Задайте путь к файлу CSV, в который вы хотите записать объединенные данные\n",
    "csv_filename_combined = \"news_data_440k.csv\"\n",
    "\n",
    "# # Записываем объединенные данные в файл CSV\n",
    "data.to_csv(csv_filename_combined, index=False)\n",
    "\n",
    "print(f\"Combined data has been successfully written to {csv_filename_combined}.\")"
   ]
  },
  {
   "cell_type": "markdown",
   "metadata": {},
   "source": [
    "### Теперь можно начинать отсюда "
   ]
  },
  {
   "cell_type": "code",
   "execution_count": 135,
   "metadata": {},
   "outputs": [],
   "source": [
    "data = pd.read_csv(\"news_data_440k.csv\")"
   ]
  },
  {
   "cell_type": "code",
   "execution_count": 136,
   "metadata": {},
   "outputs": [
    {
     "name": "stdout",
     "output_type": "stream",
     "text": [
      "<class 'pandas.core.frame.DataFrame'>\n",
      "RangeIndex: 440165 entries, 0 to 440164\n",
      "Data columns (total 2 columns):\n",
      " #   Column  Non-Null Count   Dtype \n",
      "---  ------  --------------   ----- \n",
      " 0   title   440165 non-null  object\n",
      " 1   topic   440165 non-null  object\n",
      "dtypes: object(2)\n",
      "memory usage: 6.7+ MB\n"
     ]
    }
   ],
   "source": [
    "\n",
    "# data.dropna(inplace=True)\n",
    "data.info()"
   ]
  },
  {
   "cell_type": "code",
   "execution_count": 137,
   "metadata": {},
   "outputs": [
    {
     "name": "stdout",
     "output_type": "stream",
     "text": [
      "               Topic   Count  Percentage\n",
      "0             Россия  160445   36.451104\n",
      "1          Экономика   79528   18.067770\n",
      "2              Спорт   64413   14.633830\n",
      "3        Бывший СССР   53402   12.132269\n",
      "4    Наука и техника   53136   12.071837\n",
      "5  Силовые структуры   19596    4.451967\n",
      "6        Путешествия    6408    1.455818\n",
      "7      Строительство    2344    0.532528\n",
      "8      Забота о себе     893    0.202878\n"
     ]
    }
   ],
   "source": [
    "topic_counts = data['topic'].value_counts()\n",
    "topic_percentage = data['topic'].value_counts(normalize=True) * 100\n",
    "\n",
    "result_df = pd.DataFrame({\n",
    "    'Topic': topic_counts.index,\n",
    "    'Count': topic_counts.values,\n",
    "    'Percentage': topic_percentage.values\n",
    "})\n",
    "\n",
    "print(result_df)"
   ]
  },
  {
   "cell_type": "markdown",
   "metadata": {},
   "source": [
    "### Начало обработки данных"
   ]
  },
  {
   "cell_type": "code",
   "execution_count": 138,
   "metadata": {},
   "outputs": [],
   "source": [
    "topic_mapping = {\n",
    "    'Россия': 0,\n",
    "    'Экономика': 1,\n",
    "    'Силовые структуры': 2,\n",
    "    'Бывший СССР': 3,\n",
    "    'Спорт': 4,\n",
    "    'Забота о себе': 5,\n",
    "    'Строительство': 6,\n",
    "    'Путешествия': 7,\n",
    "    'Наука и техника': 8\n",
    "}\n",
    "\n",
    "# Заменить значения в колонке 'topic' на их числовые представления из словаря\n",
    "data['topic'] = data['topic'].replace(topic_mapping)"
   ]
  },
  {
   "cell_type": "code",
   "execution_count": 139,
   "metadata": {},
   "outputs": [
    {
     "name": "stdout",
     "output_type": "stream",
     "text": [
      "   Topic   Count  Percentage\n",
      "0      0  160445   36.451104\n",
      "1      1   79528   18.067770\n",
      "2      4   64413   14.633830\n",
      "3      3   53402   12.132269\n",
      "4      8   53136   12.071837\n",
      "5      2   19596    4.451967\n",
      "6      7    6408    1.455818\n",
      "7      6    2344    0.532528\n",
      "8      5     893    0.202878\n"
     ]
    }
   ],
   "source": [
    "topic_counts = data['topic'].value_counts()\n",
    "topic_percentage = data['topic'].value_counts(normalize=True) * 100\n",
    "\n",
    "result_df = pd.DataFrame({\n",
    "    'Topic': topic_counts.index,\n",
    "    'Count': topic_counts.values,\n",
    "    'Percentage': topic_percentage.values\n",
    "})\n",
    "\n",
    "print(result_df)"
   ]
  },
  {
   "cell_type": "markdown",
   "metadata": {},
   "source": [
    "### Начало обучения наших моделей"
   ]
  },
  {
   "cell_type": "markdown",
   "metadata": {},
   "source": [
    "1 способ"
   ]
  },
  {
   "cell_type": "code",
   "execution_count": 151,
   "metadata": {},
   "outputs": [
    {
     "data": {
      "text/plain": [
       "(440165, 440165)"
      ]
     },
     "execution_count": 151,
     "metadata": {},
     "output_type": "execute_result"
    }
   ],
   "source": [
    "titles = data['title']\n",
    "topics = data['topic']\n",
    "X = titles.tolist()\n",
    "Y = topics.tolist()\n",
    "len(X),len(Y)"
   ]
  },
  {
   "cell_type": "code",
   "execution_count": 141,
   "metadata": {},
   "outputs": [],
   "source": [
    "with open('glob_train_data_titles.txt', 'w', encoding='utf-8') as tr:\n",
    "    for idx in range(len(X)):\n",
    "        # tr.write('__label__' + y_train[idx]+' '+title_train[idx]+'\\n')\n",
    "        tr.write('__label__' + f'{Y[idx]}'+' '+X[idx]+'\\n')"
   ]
  },
  {
   "cell_type": "code",
   "execution_count": 142,
   "metadata": {},
   "outputs": [
    {
     "name": "stdout",
     "output_type": "stream",
     "text": [
      "CPU times: total: 3min 2s\n",
      "Wall time: 36 s\n"
     ]
    }
   ],
   "source": [
    "%%time\n",
    "ft_model_p1 = fasttext.train_supervised(input='glob_train_data_titles.txt', epoch=20, wordNgrams=2, loss='hs', lr=1.0)"
   ]
  },
  {
   "cell_type": "code",
   "execution_count": 149,
   "metadata": {},
   "outputs": [],
   "source": [
    "test_data = pd.read_csv('lemm_test_news.csv')"
   ]
  },
  {
   "cell_type": "code",
   "execution_count": 144,
   "metadata": {},
   "outputs": [],
   "source": [
    "# Предсказание меток для каждого заголовка новости\n",
    "predicted_labels = []\n",
    "\n",
    "for title in test_data['content']:  # Замените 'content' на реальное имя столбца с заголовками\n",
    "    # Удаление символа новой строки, если он присутствует\n",
    "    title = title.replace('\\n', ' ')\n",
    "    # Предсказание меток\n",
    "    # labels, probs = ft_model_p1.predict(title)\n",
    "    labels, probs = ft_model_p1.predict(title)\n",
    "    # print(labels, probs)\n",
    "    predicted_labels.append(labels[0])\n",
    "\n",
    "# Добавление предсказанных меток в тестовые данные\n",
    "test_data['predicted_label'] = predicted_labels"
   ]
  },
  {
   "cell_type": "code",
   "execution_count": 145,
   "metadata": {},
   "outputs": [
    {
     "data": {
      "text/html": [
       "<div>\n",
       "<style scoped>\n",
       "    .dataframe tbody tr th:only-of-type {\n",
       "        vertical-align: middle;\n",
       "    }\n",
       "\n",
       "    .dataframe tbody tr th {\n",
       "        vertical-align: top;\n",
       "    }\n",
       "\n",
       "    .dataframe thead th {\n",
       "        text-align: right;\n",
       "    }\n",
       "</style>\n",
       "<table border=\"1\" class=\"dataframe\">\n",
       "  <thead>\n",
       "    <tr style=\"text-align: right;\">\n",
       "      <th></th>\n",
       "      <th>content</th>\n",
       "      <th>predicted_label</th>\n",
       "    </tr>\n",
       "  </thead>\n",
       "  <tbody>\n",
       "    <tr>\n",
       "      <th>0</th>\n",
       "      <td>фото фонтанка.р поделитьсяэкс-министр оборона ...</td>\n",
       "      <td>__label__0</td>\n",
       "    </tr>\n",
       "    <tr>\n",
       "      <th>1</th>\n",
       "      <td>начало февраль 2023 год пушкинский район санк...</td>\n",
       "      <td>__label__1</td>\n",
       "    </tr>\n",
       "    <tr>\n",
       "      <th>2</th>\n",
       "      <td>фото andy bao getty images анастасия борисов ...</td>\n",
       "      <td>__label__4</td>\n",
       "    </tr>\n",
       "    <tr>\n",
       "      <th>3</th>\n",
       "      <td>хотеть съездить море летом-2023 — читать далё...</td>\n",
       "      <td>__label__0</td>\n",
       "    </tr>\n",
       "    <tr>\n",
       "      <th>4</th>\n",
       "      <td>сергей пиняев фото алексей филипп риа новость...</td>\n",
       "      <td>__label__4</td>\n",
       "    </tr>\n",
       "  </tbody>\n",
       "</table>\n",
       "</div>"
      ],
      "text/plain": [
       "                                             content predicted_label\n",
       "0  фото фонтанка.р поделитьсяэкс-министр оборона ...      __label__0\n",
       "1   начало февраль 2023 год пушкинский район санк...      __label__1\n",
       "2   фото andy bao getty images анастасия борисов ...      __label__4\n",
       "3   хотеть съездить море летом-2023 — читать далё...      __label__0\n",
       "4   сергей пиняев фото алексей филипп риа новость...      __label__4"
      ]
     },
     "execution_count": 145,
     "metadata": {},
     "output_type": "execute_result"
    }
   ],
   "source": [
    "test_data.head()"
   ]
  },
  {
   "cell_type": "code",
   "execution_count": 147,
   "metadata": {},
   "outputs": [
    {
     "data": {
      "text/html": [
       "<div>\n",
       "<style scoped>\n",
       "    .dataframe tbody tr th:only-of-type {\n",
       "        vertical-align: middle;\n",
       "    }\n",
       "\n",
       "    .dataframe tbody tr th {\n",
       "        vertical-align: top;\n",
       "    }\n",
       "\n",
       "    .dataframe thead th {\n",
       "        text-align: right;\n",
       "    }\n",
       "</style>\n",
       "<table border=\"1\" class=\"dataframe\">\n",
       "  <thead>\n",
       "    <tr style=\"text-align: right;\">\n",
       "      <th></th>\n",
       "      <th>topic</th>\n",
       "      <th>index</th>\n",
       "    </tr>\n",
       "  </thead>\n",
       "  <tbody>\n",
       "    <tr>\n",
       "      <th>0</th>\n",
       "      <td>0</td>\n",
       "      <td>0</td>\n",
       "    </tr>\n",
       "    <tr>\n",
       "      <th>1</th>\n",
       "      <td>1</td>\n",
       "      <td>1</td>\n",
       "    </tr>\n",
       "    <tr>\n",
       "      <th>2</th>\n",
       "      <td>4</td>\n",
       "      <td>2</td>\n",
       "    </tr>\n",
       "    <tr>\n",
       "      <th>3</th>\n",
       "      <td>0</td>\n",
       "      <td>3</td>\n",
       "    </tr>\n",
       "    <tr>\n",
       "      <th>4</th>\n",
       "      <td>4</td>\n",
       "      <td>4</td>\n",
       "    </tr>\n",
       "  </tbody>\n",
       "</table>\n",
       "</div>"
      ],
      "text/plain": [
       "   topic  index\n",
       "0      0      0\n",
       "1      1      1\n",
       "2      4      2\n",
       "3      0      3\n",
       "4      4      4"
      ]
     },
     "execution_count": 147,
     "metadata": {},
     "output_type": "execute_result"
    }
   ],
   "source": [
    "test_data['topic'] = test_data['predicted_label'].copy().str.replace('__label__', '').astype(int)\n",
    "test_data['index'] = test_data.index.copy() \n",
    "test_data = test_data[['topic','index']].copy()\n",
    "\n",
    "test_data.head()\n"
   ]
  },
  {
   "cell_type": "code",
   "execution_count": 148,
   "metadata": {},
   "outputs": [],
   "source": [
    "test_data.to_csv('result_6.csv', index=False)"
   ]
  },
  {
   "cell_type": "markdown",
   "metadata": {},
   "source": [
    "### Проверим точность на своих тренировочных данных: (20% от общих)"
   ]
  },
  {
   "cell_type": "code",
   "execution_count": 162,
   "metadata": {},
   "outputs": [],
   "source": [
    "title_train, title_test, y_train, y_test = train_test_split(X, Y, test_size=0.05, stratify=Y, random_state=42)"
   ]
  },
  {
   "cell_type": "code",
   "execution_count": 161,
   "metadata": {},
   "outputs": [
    {
     "name": "stdout",
     "output_type": "stream",
     "text": [
      "Все записано!\n"
     ]
    }
   ],
   "source": [
    "with open('train_data_titles.txt', 'w', encoding='utf-8') as tr:\n",
    "    for idx in range(len(title_train)):\n",
    "        # tr.write('__label__' + y_train[idx]+' '+title_train[idx]+'\\n')\n",
    "        tr.write('__label__' + f'{y_train[idx]}'+' '+title_train[idx]+'\\n')\n",
    "        \n",
    "with open('test_data_titles.txt', 'w', encoding='utf-8') as te:\n",
    "    for idx in range(len(title_test)):\n",
    "        # te.write('__label__' + y_test[idx]+' '+title_test[idx]+'\\n')        \n",
    "        te.write('__label__' + f'{y_test[idx]}'+' '+title_test[idx]+'\\n')    \n",
    "print('Все записано!')"
   ]
  },
  {
   "cell_type": "code",
   "execution_count": 91,
   "metadata": {},
   "outputs": [
    {
     "name": "stdout",
     "output_type": "stream",
     "text": [
      "CPU times: total: 29.7 s\n",
      "Wall time: 6.29 s\n"
     ]
    }
   ],
   "source": [
    "%%time\n",
    "# ft_model_p1 = fasttext.train_supervised(input='train_data_titles.txt', epoch=20, wordNgrams=2, loss='hs', lr=1.0)\n",
    "ft_model_p1 = fasttext.train_supervised(input='train_data_titles.txt', epoch=20, wordNgrams=2, loss='hs', lr=1.0)"
   ]
  },
  {
   "cell_type": "code",
   "execution_count": 92,
   "metadata": {},
   "outputs": [
    {
     "data": {
      "text/plain": [
       "(13929, 0.9243305334194846, 0.9243305334194846)"
      ]
     },
     "execution_count": 92,
     "metadata": {},
     "output_type": "execute_result"
    }
   ],
   "source": [
    "ft_model_p1.test('test_data_titles.txt')\n",
    "\n",
    "# 0.92 пока лучшее (epoch=20, wordNgrams=2, loss='hs', lr=1.0)"
   ]
  },
  {
   "cell_type": "markdown",
   "metadata": {},
   "source": [
    "### Более лучшая модель"
   ]
  },
  {
   "cell_type": "code",
   "execution_count": 157,
   "metadata": {},
   "outputs": [
    {
     "name": "stdout",
     "output_type": "stream",
     "text": [
      "CPU times: total: 22min 58s\n",
      "Wall time: 5min 11s\n"
     ]
    }
   ],
   "source": [
    "%%time\n",
    "ft_model_p2 = fasttext.train_supervised(input='train_data_titles.txt', autotuneValidationFile='test_data_titles.txt')"
   ]
  },
  {
   "cell_type": "code",
   "execution_count": 158,
   "metadata": {},
   "outputs": [
    {
     "data": {
      "text/plain": [
       "(88033, 0.8737064509899697, 0.8737064509899697)"
      ]
     },
     "execution_count": 158,
     "metadata": {},
     "output_type": "execute_result"
    }
   ],
   "source": [
    "ft_model_p2.test('test_data_titles.txt')"
   ]
  },
  {
   "cell_type": "code",
   "execution_count": 159,
   "metadata": {},
   "outputs": [
    {
     "name": "stdout",
     "output_type": "stream",
     "text": [
      "Best learning rate: 1.2012255826641023 \n",
      "Best epochs: 3 \n",
      "Best_word_Ngrams: 3\n"
     ]
    }
   ],
   "source": [
    "print(f'Best learning rate: {ft_model_p2.lr} \\nBest epochs: {ft_model_p2.epoch} \\nBest_word_Ngrams: {ft_model_p2.wordNgrams}')"
   ]
  },
  {
   "cell_type": "code",
   "execution_count": 163,
   "metadata": {},
   "outputs": [
    {
     "data": {
      "text/html": [
       "<div>\n",
       "<style scoped>\n",
       "    .dataframe tbody tr th:only-of-type {\n",
       "        vertical-align: middle;\n",
       "    }\n",
       "\n",
       "    .dataframe tbody tr th {\n",
       "        vertical-align: top;\n",
       "    }\n",
       "\n",
       "    .dataframe thead th {\n",
       "        text-align: right;\n",
       "    }\n",
       "</style>\n",
       "<table border=\"1\" class=\"dataframe\">\n",
       "  <thead>\n",
       "    <tr style=\"text-align: right;\">\n",
       "      <th></th>\n",
       "      <th>content</th>\n",
       "      <th>predicted_label</th>\n",
       "    </tr>\n",
       "  </thead>\n",
       "  <tbody>\n",
       "    <tr>\n",
       "      <th>0</th>\n",
       "      <td>Фото: «Фонтанка.ру»ПоделитьсяЭкс-министру обор...</td>\n",
       "      <td>__label__6</td>\n",
       "    </tr>\n",
       "    <tr>\n",
       "      <th>1</th>\n",
       "      <td>В начале февраля 2023 года в Пушкинском районе...</td>\n",
       "      <td>__label__6</td>\n",
       "    </tr>\n",
       "    <tr>\n",
       "      <th>2</th>\n",
       "      <td>Фото: Andy Bao / Getty Images Анастасия Борисо...</td>\n",
       "      <td>__label__5</td>\n",
       "    </tr>\n",
       "    <tr>\n",
       "      <th>3</th>\n",
       "      <td>Если вы хотели, но так и не съездили на море л...</td>\n",
       "      <td>__label__5</td>\n",
       "    </tr>\n",
       "    <tr>\n",
       "      <th>4</th>\n",
       "      <td>Сергей Пиняев Фото: Алексей Филиппов / РИА Нов...</td>\n",
       "      <td>__label__4</td>\n",
       "    </tr>\n",
       "  </tbody>\n",
       "</table>\n",
       "</div>"
      ],
      "text/plain": [
       "                                             content predicted_label\n",
       "0  Фото: «Фонтанка.ру»ПоделитьсяЭкс-министру обор...      __label__6\n",
       "1  В начале февраля 2023 года в Пушкинском районе...      __label__6\n",
       "2  Фото: Andy Bao / Getty Images Анастасия Борисо...      __label__5\n",
       "3  Если вы хотели, но так и не съездили на море л...      __label__5\n",
       "4  Сергей Пиняев Фото: Алексей Филиппов / РИА Нов...      __label__4"
      ]
     },
     "execution_count": 163,
     "metadata": {},
     "output_type": "execute_result"
    }
   ],
   "source": [
    "# test_data = pd.read_csv('lemm_test_news.csv')  # порпобуем на грязненьком\n",
    "test_data = pd.read_csv('test_news.csv')\n",
    "# Предсказание меток для каждого заголовка новости\n",
    "predicted_labels = []\n",
    "\n",
    "for title in test_data['content']:  # Замените 'content' на реальное имя столбца с заголовками\n",
    "    # Удаление символа новой строки, если он присутствует\n",
    "    title = title.replace('\\n', ' ')\n",
    "    # Предсказание меток\n",
    "    labels, probs = ft_model_p2.predict(title)\n",
    "    # print(labels, probs)\n",
    "    predicted_labels.append(labels[0])\n",
    "\n",
    "# Добавление предсказанных меток в тестовые данные\n",
    "test_data['predicted_label'] = predicted_labels\n",
    "test_data.head()\n",
    "\n"
   ]
  },
  {
   "cell_type": "code",
   "execution_count": 164,
   "metadata": {},
   "outputs": [
    {
     "data": {
      "text/html": [
       "<div>\n",
       "<style scoped>\n",
       "    .dataframe tbody tr th:only-of-type {\n",
       "        vertical-align: middle;\n",
       "    }\n",
       "\n",
       "    .dataframe tbody tr th {\n",
       "        vertical-align: top;\n",
       "    }\n",
       "\n",
       "    .dataframe thead th {\n",
       "        text-align: right;\n",
       "    }\n",
       "</style>\n",
       "<table border=\"1\" class=\"dataframe\">\n",
       "  <thead>\n",
       "    <tr style=\"text-align: right;\">\n",
       "      <th></th>\n",
       "      <th>topic</th>\n",
       "      <th>index</th>\n",
       "    </tr>\n",
       "  </thead>\n",
       "  <tbody>\n",
       "    <tr>\n",
       "      <th>0</th>\n",
       "      <td>6</td>\n",
       "      <td>0</td>\n",
       "    </tr>\n",
       "    <tr>\n",
       "      <th>1</th>\n",
       "      <td>6</td>\n",
       "      <td>1</td>\n",
       "    </tr>\n",
       "    <tr>\n",
       "      <th>2</th>\n",
       "      <td>5</td>\n",
       "      <td>2</td>\n",
       "    </tr>\n",
       "    <tr>\n",
       "      <th>3</th>\n",
       "      <td>5</td>\n",
       "      <td>3</td>\n",
       "    </tr>\n",
       "    <tr>\n",
       "      <th>4</th>\n",
       "      <td>4</td>\n",
       "      <td>4</td>\n",
       "    </tr>\n",
       "  </tbody>\n",
       "</table>\n",
       "</div>"
      ],
      "text/plain": [
       "   topic  index\n",
       "0      6      0\n",
       "1      6      1\n",
       "2      5      2\n",
       "3      5      3\n",
       "4      4      4"
      ]
     },
     "execution_count": 164,
     "metadata": {},
     "output_type": "execute_result"
    }
   ],
   "source": [
    "test_data['topic'] = test_data['predicted_label'].copy().str.replace('__label__', '').astype(int)\n",
    "test_data['index'] = test_data.index.copy() \n",
    "test_data = test_data[['topic','index']].copy()\n",
    "\n",
    "test_data.head()"
   ]
  },
  {
   "cell_type": "code",
   "execution_count": 165,
   "metadata": {},
   "outputs": [
    {
     "name": "stdout",
     "output_type": "stream",
     "text": [
      "<class 'pandas.core.frame.DataFrame'>\n",
      "RangeIndex: 26275 entries, 0 to 26274\n",
      "Data columns (total 2 columns):\n",
      " #   Column  Non-Null Count  Dtype\n",
      "---  ------  --------------  -----\n",
      " 0   topic   26275 non-null  int32\n",
      " 1   index   26275 non-null  int64\n",
      "dtypes: int32(1), int64(1)\n",
      "memory usage: 308.0 KB\n"
     ]
    }
   ],
   "source": [
    "test_data.info()"
   ]
  },
  {
   "cell_type": "code",
   "execution_count": 166,
   "metadata": {},
   "outputs": [],
   "source": [
    "test_data.to_csv('result_7.csv', index=False)"
   ]
  }
 ],
 "metadata": {
  "kernelspec": {
   "display_name": "venv",
   "language": "python",
   "name": "python3"
  },
  "language_info": {
   "codemirror_mode": {
    "name": "ipython",
    "version": 3
   },
   "file_extension": ".py",
   "mimetype": "text/x-python",
   "name": "python",
   "nbconvert_exporter": "python",
   "pygments_lexer": "ipython3",
   "version": "3.11.2"
  }
 },
 "nbformat": 4,
 "nbformat_minor": 2
}
